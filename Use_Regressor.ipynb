{
 "cells": [
  {
   "cell_type": "code",
   "execution_count": 54,
   "metadata": {},
   "outputs": [],
   "source": [
    "import pandas as pd\n",
    "import time\n",
    "import pickle\n",
    "import datetime\n",
    "from sqlalchemy import create_engine\n",
    "\n",
    "from sqlalchemy_utils import database_exists, create_database\n",
    "import psycopg2\n",
    "import pandas as pd\n",
    "import csv\n",
    "import matplotlib.pyplot as plt\n",
    "\n",
    "from collections import OrderedDict\n",
    "from sklearn.model_selection import train_test_split\n",
    "from sklearn.linear_model import LinearRegression\n",
    "import numpy as np\n",
    "from sklearn import metrics\n",
    "\n",
    "from geopy.distance import great_circle\n",
    "from shapely.geometry import MultiPoint"
   ]
  },
  {
   "cell_type": "code",
   "execution_count": 5,
   "metadata": {},
   "outputs": [],
   "source": [
    "pkfile = open('regressor_Sep26.pk1','rb')\n",
    "regressor = pickle.load(pkfile)\n",
    "pkfile.close()"
   ]
  },
  {
   "cell_type": "code",
   "execution_count": 8,
   "metadata": {},
   "outputs": [
    {
     "data": {
      "text/plain": [
       "array([-0.00067977, -0.00049957, -0.00183946, -0.01591451,  0.10833862,\n",
       "       -0.15959181])"
      ]
     },
     "execution_count": 8,
     "metadata": {},
     "output_type": "execute_result"
    }
   ],
   "source": [
    "regressor.coef_"
   ]
  },
  {
   "cell_type": "code",
   "execution_count": 10,
   "metadata": {},
   "outputs": [],
   "source": [
    "pk1_file = open('cluster_monthly_observation_data_2018-07-31_2019-08-31.pk1','rb')\n",
    "observation_data = pickle.load(pk1_file)\n",
    "pk2_file = open('formatted_climate_data_2018-03_2019-08.pk1','rb')\n",
    "climate_data = pickle.load(pk2_file)"
   ]
  },
  {
   "cell_type": "code",
   "execution_count": 11,
   "metadata": {},
   "outputs": [],
   "source": [
    "def get_dragon_butter_ratio_i_j(data,i,j):\n",
    "    butterfly_num = data[i]['data']['butterfly'].loc[j]['monthly_count']\n",
    "    dragonfly_num = data[i]['data']['dragonfly'].loc[j]['monthly_count']    \n",
    "    val = butterfly_num + 1\n",
    "    val = dragonfly_num / val\n",
    "    return val\n",
    "\n",
    "def get_month_ppt_i_j(data,i,j):\n",
    "    val = data[i]['ppts'][j]\n",
    "    return val\n",
    "\n",
    "def get_month_tmean_i_j(data,i,j):\n",
    "    val = data[i]['tmeans'][j]\n",
    "    return val\n",
    "\n",
    "def get_features_clusterI_monthJ(data_climate,data_wildlife,i,j):\n",
    "    ppt_m1 = get_month_ppt_i_j(data_climate,i,j-3)\n",
    "    ppt_m2 = get_month_ppt_i_j(data_climate,i,j-2)\n",
    "    ppt_m3 = get_month_ppt_i_j(data_climate,i,j-1)\n",
    "    tmean_m1 = get_month_tmean_i_j(data_climate,i,j-3)\n",
    "    tmean_m2 = get_month_tmean_i_j(data_climate,i,j-2)\n",
    "    tmean_m3 = get_month_tmean_i_j(data_climate,i,j-1)    \n",
    "    depend_var = get_dragon_butter_ratio_i_j(data_wildlife,i,j)\n",
    "    returndict = {'depend_var':depend_var,'ppt_m1':ppt_m1,'ppt_m2':ppt_m2,'ppt_m3':ppt_m3,'tmean_m1':tmean_m1,'tmean_m2':tmean_m2,'tmean_m3':tmean_m3}\n",
    "    return returndict\n",
    "\n",
    "def get_features_monthJ(data_climate,data_wildlife,j):\n",
    "    val = []\n",
    "    for i in range(len(data_wildlife)-1):\n",
    "    #for i in range(30):    \n",
    "        valdict = get_features_clusterI_monthJ(data_climate,data_wildlife,i,j)\n",
    "        val.append(valdict)\n",
    "    return val"
   ]
  },
  {
   "cell_type": "code",
   "execution_count": 23,
   "metadata": {},
   "outputs": [],
   "source": [
    "def get_features(data_climate,data_wildlife):\n",
    "    val = []\n",
    "    for i in range(len(data_wildlife)-1):\n",
    "        for j in range(13):\n",
    "            valdict = get_features_clusterI_monthJ(data_climate,data_wildlife,i,j)\n",
    "            val.append(valdict)\n",
    "    return val\n",
    "            "
   ]
  },
  {
   "cell_type": "code",
   "execution_count": 24,
   "metadata": {},
   "outputs": [],
   "source": [
    "fullset_df = pd.DataFrame(get_features(climate_data,observation_data))"
   ]
  },
  {
   "cell_type": "code",
   "execution_count": 25,
   "metadata": {},
   "outputs": [
    {
     "data": {
      "text/html": [
       "<div>\n",
       "<style scoped>\n",
       "    .dataframe tbody tr th:only-of-type {\n",
       "        vertical-align: middle;\n",
       "    }\n",
       "\n",
       "    .dataframe tbody tr th {\n",
       "        vertical-align: top;\n",
       "    }\n",
       "\n",
       "    .dataframe thead th {\n",
       "        text-align: right;\n",
       "    }\n",
       "</style>\n",
       "<table border=\"1\" class=\"dataframe\">\n",
       "  <thead>\n",
       "    <tr style=\"text-align: right;\">\n",
       "      <th></th>\n",
       "      <th>depend_var</th>\n",
       "      <th>ppt_m1</th>\n",
       "      <th>ppt_m2</th>\n",
       "      <th>ppt_m3</th>\n",
       "      <th>tmean_m1</th>\n",
       "      <th>tmean_m2</th>\n",
       "      <th>tmean_m3</th>\n",
       "    </tr>\n",
       "  </thead>\n",
       "  <tbody>\n",
       "    <tr>\n",
       "      <td>0</td>\n",
       "      <td>0.057692</td>\n",
       "      <td>175.725006</td>\n",
       "      <td>181.679001</td>\n",
       "      <td>126.203003</td>\n",
       "      <td>20.050001</td>\n",
       "      <td>22.970001</td>\n",
       "      <td>25.943001</td>\n",
       "    </tr>\n",
       "    <tr>\n",
       "      <td>1</td>\n",
       "      <td>0.226415</td>\n",
       "      <td>181.679001</td>\n",
       "      <td>126.203003</td>\n",
       "      <td>116.495003</td>\n",
       "      <td>22.970001</td>\n",
       "      <td>25.943001</td>\n",
       "      <td>7.101000</td>\n",
       "    </tr>\n",
       "    <tr>\n",
       "      <td>2</td>\n",
       "      <td>0.036145</td>\n",
       "      <td>126.203003</td>\n",
       "      <td>116.495003</td>\n",
       "      <td>170.445007</td>\n",
       "      <td>25.943001</td>\n",
       "      <td>7.101000</td>\n",
       "      <td>10.266001</td>\n",
       "    </tr>\n",
       "    <tr>\n",
       "      <td>3</td>\n",
       "      <td>0.250000</td>\n",
       "      <td>116.495003</td>\n",
       "      <td>170.445007</td>\n",
       "      <td>126.964996</td>\n",
       "      <td>7.101000</td>\n",
       "      <td>10.266001</td>\n",
       "      <td>22.799002</td>\n",
       "    </tr>\n",
       "    <tr>\n",
       "      <td>4</td>\n",
       "      <td>0.125000</td>\n",
       "      <td>170.445007</td>\n",
       "      <td>126.964996</td>\n",
       "      <td>188.686996</td>\n",
       "      <td>10.266001</td>\n",
       "      <td>22.799002</td>\n",
       "      <td>25.460001</td>\n",
       "    </tr>\n",
       "    <tr>\n",
       "      <td>...</td>\n",
       "      <td>...</td>\n",
       "      <td>...</td>\n",
       "      <td>...</td>\n",
       "      <td>...</td>\n",
       "      <td>...</td>\n",
       "      <td>...</td>\n",
       "      <td>...</td>\n",
       "    </tr>\n",
       "    <tr>\n",
       "      <td>476</td>\n",
       "      <td>0.037879</td>\n",
       "      <td>196.076004</td>\n",
       "      <td>150.774002</td>\n",
       "      <td>26.639000</td>\n",
       "      <td>26.318001</td>\n",
       "      <td>26.549002</td>\n",
       "      <td>19.731001</td>\n",
       "    </tr>\n",
       "    <tr>\n",
       "      <td>477</td>\n",
       "      <td>0.156171</td>\n",
       "      <td>150.774002</td>\n",
       "      <td>26.639000</td>\n",
       "      <td>182.569000</td>\n",
       "      <td>26.549002</td>\n",
       "      <td>19.731001</td>\n",
       "      <td>9.831000</td>\n",
       "    </tr>\n",
       "    <tr>\n",
       "      <td>478</td>\n",
       "      <td>0.067039</td>\n",
       "      <td>26.639000</td>\n",
       "      <td>182.569000</td>\n",
       "      <td>242.429993</td>\n",
       "      <td>19.731001</td>\n",
       "      <td>9.831000</td>\n",
       "      <td>8.925000</td>\n",
       "    </tr>\n",
       "    <tr>\n",
       "      <td>479</td>\n",
       "      <td>0.200000</td>\n",
       "      <td>182.569000</td>\n",
       "      <td>242.429993</td>\n",
       "      <td>186.496002</td>\n",
       "      <td>9.831000</td>\n",
       "      <td>8.925000</td>\n",
       "      <td>7.580000</td>\n",
       "    </tr>\n",
       "    <tr>\n",
       "      <td>480</td>\n",
       "      <td>0.152941</td>\n",
       "      <td>242.429993</td>\n",
       "      <td>186.496002</td>\n",
       "      <td>147.895004</td>\n",
       "      <td>8.925000</td>\n",
       "      <td>7.580000</td>\n",
       "      <td>13.532001</td>\n",
       "    </tr>\n",
       "  </tbody>\n",
       "</table>\n",
       "<p>481 rows × 7 columns</p>\n",
       "</div>"
      ],
      "text/plain": [
       "     depend_var      ppt_m1      ppt_m2      ppt_m3   tmean_m1   tmean_m2  \\\n",
       "0      0.057692  175.725006  181.679001  126.203003  20.050001  22.970001   \n",
       "1      0.226415  181.679001  126.203003  116.495003  22.970001  25.943001   \n",
       "2      0.036145  126.203003  116.495003  170.445007  25.943001   7.101000   \n",
       "3      0.250000  116.495003  170.445007  126.964996   7.101000  10.266001   \n",
       "4      0.125000  170.445007  126.964996  188.686996  10.266001  22.799002   \n",
       "..          ...         ...         ...         ...        ...        ...   \n",
       "476    0.037879  196.076004  150.774002   26.639000  26.318001  26.549002   \n",
       "477    0.156171  150.774002   26.639000  182.569000  26.549002  19.731001   \n",
       "478    0.067039   26.639000  182.569000  242.429993  19.731001   9.831000   \n",
       "479    0.200000  182.569000  242.429993  186.496002   9.831000   8.925000   \n",
       "480    0.152941  242.429993  186.496002  147.895004   8.925000   7.580000   \n",
       "\n",
       "      tmean_m3  \n",
       "0    25.943001  \n",
       "1     7.101000  \n",
       "2    10.266001  \n",
       "3    22.799002  \n",
       "4    25.460001  \n",
       "..         ...  \n",
       "476  19.731001  \n",
       "477   9.831000  \n",
       "478   8.925000  \n",
       "479   7.580000  \n",
       "480  13.532001  \n",
       "\n",
       "[481 rows x 7 columns]"
      ]
     },
     "execution_count": 25,
     "metadata": {},
     "output_type": "execute_result"
    }
   ],
   "source": [
    "fullset_df"
   ]
  },
  {
   "cell_type": "code",
   "execution_count": 12,
   "metadata": {},
   "outputs": [],
   "source": [
    "makedataframe12 = pd.DataFrame(get_features_monthJ(climate_data,observation_data,12))"
   ]
  },
  {
   "cell_type": "code",
   "execution_count": 14,
   "metadata": {},
   "outputs": [
    {
     "data": {
      "text/html": [
       "<div>\n",
       "<style scoped>\n",
       "    .dataframe tbody tr th:only-of-type {\n",
       "        vertical-align: middle;\n",
       "    }\n",
       "\n",
       "    .dataframe tbody tr th {\n",
       "        vertical-align: top;\n",
       "    }\n",
       "\n",
       "    .dataframe thead th {\n",
       "        text-align: right;\n",
       "    }\n",
       "</style>\n",
       "<table border=\"1\" class=\"dataframe\">\n",
       "  <thead>\n",
       "    <tr style=\"text-align: right;\">\n",
       "      <th></th>\n",
       "      <th>depend_var</th>\n",
       "      <th>ppt_m1</th>\n",
       "      <th>ppt_m2</th>\n",
       "      <th>ppt_m3</th>\n",
       "      <th>tmean_m1</th>\n",
       "      <th>tmean_m2</th>\n",
       "      <th>tmean_m3</th>\n",
       "    </tr>\n",
       "  </thead>\n",
       "  <tbody>\n",
       "    <tr>\n",
       "      <td>count</td>\n",
       "      <td>37.000000</td>\n",
       "      <td>37.000000</td>\n",
       "      <td>37.000000</td>\n",
       "      <td>37.000000</td>\n",
       "      <td>37.000000</td>\n",
       "      <td>37.000000</td>\n",
       "      <td>37.000000</td>\n",
       "    </tr>\n",
       "    <tr>\n",
       "      <td>mean</td>\n",
       "      <td>0.241810</td>\n",
       "      <td>145.167649</td>\n",
       "      <td>118.712296</td>\n",
       "      <td>132.809514</td>\n",
       "      <td>4.262865</td>\n",
       "      <td>1.288514</td>\n",
       "      <td>4.253649</td>\n",
       "    </tr>\n",
       "    <tr>\n",
       "      <td>std</td>\n",
       "      <td>0.271273</td>\n",
       "      <td>69.454972</td>\n",
       "      <td>31.207719</td>\n",
       "      <td>65.805401</td>\n",
       "      <td>2.690482</td>\n",
       "      <td>4.007221</td>\n",
       "      <td>4.737629</td>\n",
       "    </tr>\n",
       "    <tr>\n",
       "      <td>min</td>\n",
       "      <td>0.000958</td>\n",
       "      <td>33.110001</td>\n",
       "      <td>81.075996</td>\n",
       "      <td>32.317001</td>\n",
       "      <td>0.209000</td>\n",
       "      <td>-5.846000</td>\n",
       "      <td>-3.557000</td>\n",
       "    </tr>\n",
       "    <tr>\n",
       "      <td>25%</td>\n",
       "      <td>0.078481</td>\n",
       "      <td>86.230003</td>\n",
       "      <td>96.310997</td>\n",
       "      <td>90.501999</td>\n",
       "      <td>1.966000</td>\n",
       "      <td>-2.098000</td>\n",
       "      <td>0.971000</td>\n",
       "    </tr>\n",
       "    <tr>\n",
       "      <td>50%</td>\n",
       "      <td>0.137251</td>\n",
       "      <td>143.160995</td>\n",
       "      <td>111.913002</td>\n",
       "      <td>103.193001</td>\n",
       "      <td>3.665000</td>\n",
       "      <td>0.806000</td>\n",
       "      <td>2.834000</td>\n",
       "    </tr>\n",
       "    <tr>\n",
       "      <td>75%</td>\n",
       "      <td>0.233227</td>\n",
       "      <td>172.371994</td>\n",
       "      <td>132.654999</td>\n",
       "      <td>175.710999</td>\n",
       "      <td>6.490000</td>\n",
       "      <td>4.885000</td>\n",
       "      <td>7.698000</td>\n",
       "    </tr>\n",
       "    <tr>\n",
       "      <td>max</td>\n",
       "      <td>0.933673</td>\n",
       "      <td>292.768005</td>\n",
       "      <td>196.330994</td>\n",
       "      <td>311.632996</td>\n",
       "      <td>10.571000</td>\n",
       "      <td>9.530001</td>\n",
       "      <td>14.546000</td>\n",
       "    </tr>\n",
       "  </tbody>\n",
       "</table>\n",
       "</div>"
      ],
      "text/plain": [
       "       depend_var      ppt_m1      ppt_m2      ppt_m3   tmean_m1   tmean_m2  \\\n",
       "count   37.000000   37.000000   37.000000   37.000000  37.000000  37.000000   \n",
       "mean     0.241810  145.167649  118.712296  132.809514   4.262865   1.288514   \n",
       "std      0.271273   69.454972   31.207719   65.805401   2.690482   4.007221   \n",
       "min      0.000958   33.110001   81.075996   32.317001   0.209000  -5.846000   \n",
       "25%      0.078481   86.230003   96.310997   90.501999   1.966000  -2.098000   \n",
       "50%      0.137251  143.160995  111.913002  103.193001   3.665000   0.806000   \n",
       "75%      0.233227  172.371994  132.654999  175.710999   6.490000   4.885000   \n",
       "max      0.933673  292.768005  196.330994  311.632996  10.571000   9.530001   \n",
       "\n",
       "        tmean_m3  \n",
       "count  37.000000  \n",
       "mean    4.253649  \n",
       "std     4.737629  \n",
       "min    -3.557000  \n",
       "25%     0.971000  \n",
       "50%     2.834000  \n",
       "75%     7.698000  \n",
       "max    14.546000  "
      ]
     },
     "execution_count": 14,
     "metadata": {},
     "output_type": "execute_result"
    }
   ],
   "source": [
    "makedataframe12.describe()"
   ]
  },
  {
   "cell_type": "code",
   "execution_count": 16,
   "metadata": {},
   "outputs": [],
   "source": [
    "X = makedataframe12[['ppt_m1','ppt_m2','ppt_m3','tmean_m1','tmean_m2','tmean_m3']]\n",
    "y = makedataframe12['depend_var']"
   ]
  },
  {
   "cell_type": "code",
   "execution_count": 17,
   "metadata": {},
   "outputs": [
    {
     "data": {
      "text/plain": [
       "-2.407181251337997"
      ]
     },
     "execution_count": 17,
     "metadata": {},
     "output_type": "execute_result"
    }
   ],
   "source": [
    "score = regressor.score(X,y)\n",
    "score"
   ]
  },
  {
   "cell_type": "code",
   "execution_count": 19,
   "metadata": {},
   "outputs": [],
   "source": [
    "makedataframe1 = pd.DataFrame(get_features_monthJ(climate_data,observation_data,1))\n",
    "X1 = makedataframe1[['ppt_m1','ppt_m2','ppt_m3','tmean_m1','tmean_m2','tmean_m3']]\n",
    "y1 = makedataframe1['depend_var']"
   ]
  },
  {
   "cell_type": "code",
   "execution_count": 20,
   "metadata": {},
   "outputs": [
    {
     "data": {
      "text/plain": [
       "-115.81457728401273"
      ]
     },
     "execution_count": 20,
     "metadata": {},
     "output_type": "execute_result"
    }
   ],
   "source": [
    "score = regressor.score(X1,y1)\n",
    "score"
   ]
  },
  {
   "cell_type": "code",
   "execution_count": 21,
   "metadata": {},
   "outputs": [],
   "source": [
    "df = pd.DataFrame({'Actual': y1, 'Predicted': regressor.predict(X1)})"
   ]
  },
  {
   "cell_type": "code",
   "execution_count": 26,
   "metadata": {},
   "outputs": [
    {
     "data": {
      "text/html": [
       "<div>\n",
       "<style scoped>\n",
       "    .dataframe tbody tr th:only-of-type {\n",
       "        vertical-align: middle;\n",
       "    }\n",
       "\n",
       "    .dataframe tbody tr th {\n",
       "        vertical-align: top;\n",
       "    }\n",
       "\n",
       "    .dataframe thead th {\n",
       "        text-align: right;\n",
       "    }\n",
       "</style>\n",
       "<table border=\"1\" class=\"dataframe\">\n",
       "  <thead>\n",
       "    <tr style=\"text-align: right;\">\n",
       "      <th></th>\n",
       "      <th>Actual</th>\n",
       "      <th>Predicted</th>\n",
       "    </tr>\n",
       "  </thead>\n",
       "  <tbody>\n",
       "    <tr>\n",
       "      <td>0</td>\n",
       "      <td>0.226415</td>\n",
       "      <td>1.969976</td>\n",
       "    </tr>\n",
       "    <tr>\n",
       "      <td>1</td>\n",
       "      <td>0.177711</td>\n",
       "      <td>2.795256</td>\n",
       "    </tr>\n",
       "    <tr>\n",
       "      <td>2</td>\n",
       "      <td>0.020000</td>\n",
       "      <td>2.359957</td>\n",
       "    </tr>\n",
       "    <tr>\n",
       "      <td>3</td>\n",
       "      <td>0.010638</td>\n",
       "      <td>2.340036</td>\n",
       "    </tr>\n",
       "    <tr>\n",
       "      <td>4</td>\n",
       "      <td>0.039443</td>\n",
       "      <td>2.921377</td>\n",
       "    </tr>\n",
       "  </tbody>\n",
       "</table>\n",
       "</div>"
      ],
      "text/plain": [
       "     Actual  Predicted\n",
       "0  0.226415   1.969976\n",
       "1  0.177711   2.795256\n",
       "2  0.020000   2.359957\n",
       "3  0.010638   2.340036\n",
       "4  0.039443   2.921377"
      ]
     },
     "execution_count": 26,
     "metadata": {},
     "output_type": "execute_result"
    }
   ],
   "source": [
    "df.head()"
   ]
  },
  {
   "cell_type": "code",
   "execution_count": 27,
   "metadata": {},
   "outputs": [],
   "source": [
    "X_full = fullset_df[['ppt_m1','ppt_m2','ppt_m3','tmean_m1','tmean_m2','tmean_m3']]\n",
    "y_full = fullset_df['depend_var']"
   ]
  },
  {
   "cell_type": "code",
   "execution_count": 28,
   "metadata": {},
   "outputs": [],
   "source": [
    "X_train, X_test, y_train, y_test = train_test_split(X_full, y_full, test_size=0.2, random_state=0)"
   ]
  },
  {
   "cell_type": "code",
   "execution_count": 29,
   "metadata": {},
   "outputs": [
    {
     "data": {
      "text/plain": [
       "LinearRegression(copy_X=True, fit_intercept=True, n_jobs=None, normalize=False)"
      ]
     },
     "execution_count": 29,
     "metadata": {},
     "output_type": "execute_result"
    }
   ],
   "source": [
    "regressor_full = LinearRegression()\n",
    "regressor_full.fit(X_train,y_train)"
   ]
  },
  {
   "cell_type": "code",
   "execution_count": 31,
   "metadata": {},
   "outputs": [
    {
     "data": {
      "text/html": [
       "<div>\n",
       "<style scoped>\n",
       "    .dataframe tbody tr th:only-of-type {\n",
       "        vertical-align: middle;\n",
       "    }\n",
       "\n",
       "    .dataframe tbody tr th {\n",
       "        vertical-align: top;\n",
       "    }\n",
       "\n",
       "    .dataframe thead th {\n",
       "        text-align: right;\n",
       "    }\n",
       "</style>\n",
       "<table border=\"1\" class=\"dataframe\">\n",
       "  <thead>\n",
       "    <tr style=\"text-align: right;\">\n",
       "      <th></th>\n",
       "      <th>Coefficient</th>\n",
       "    </tr>\n",
       "  </thead>\n",
       "  <tbody>\n",
       "    <tr>\n",
       "      <td>ppt_m1</td>\n",
       "      <td>-0.000230</td>\n",
       "    </tr>\n",
       "    <tr>\n",
       "      <td>ppt_m2</td>\n",
       "      <td>0.000222</td>\n",
       "    </tr>\n",
       "    <tr>\n",
       "      <td>ppt_m3</td>\n",
       "      <td>-0.000266</td>\n",
       "    </tr>\n",
       "    <tr>\n",
       "      <td>tmean_m1</td>\n",
       "      <td>-0.004706</td>\n",
       "    </tr>\n",
       "    <tr>\n",
       "      <td>tmean_m2</td>\n",
       "      <td>-0.002057</td>\n",
       "    </tr>\n",
       "    <tr>\n",
       "      <td>tmean_m3</td>\n",
       "      <td>-0.008314</td>\n",
       "    </tr>\n",
       "  </tbody>\n",
       "</table>\n",
       "</div>"
      ],
      "text/plain": [
       "          Coefficient\n",
       "ppt_m1      -0.000230\n",
       "ppt_m2       0.000222\n",
       "ppt_m3      -0.000266\n",
       "tmean_m1    -0.004706\n",
       "tmean_m2    -0.002057\n",
       "tmean_m3    -0.008314"
      ]
     },
     "execution_count": 31,
     "metadata": {},
     "output_type": "execute_result"
    }
   ],
   "source": [
    "coeff_df = pd.DataFrame(regressor_full.coef_, X_full.columns, columns=['Coefficient'])\n",
    "coeff_df"
   ]
  },
  {
   "cell_type": "code",
   "execution_count": 32,
   "metadata": {},
   "outputs": [
    {
     "data": {
      "text/html": [
       "<div>\n",
       "<style scoped>\n",
       "    .dataframe tbody tr th:only-of-type {\n",
       "        vertical-align: middle;\n",
       "    }\n",
       "\n",
       "    .dataframe tbody tr th {\n",
       "        vertical-align: top;\n",
       "    }\n",
       "\n",
       "    .dataframe thead th {\n",
       "        text-align: right;\n",
       "    }\n",
       "</style>\n",
       "<table border=\"1\" class=\"dataframe\">\n",
       "  <thead>\n",
       "    <tr style=\"text-align: right;\">\n",
       "      <th></th>\n",
       "      <th>depend_var</th>\n",
       "      <th>ppt_m1</th>\n",
       "      <th>ppt_m2</th>\n",
       "      <th>ppt_m3</th>\n",
       "      <th>tmean_m1</th>\n",
       "      <th>tmean_m2</th>\n",
       "      <th>tmean_m3</th>\n",
       "    </tr>\n",
       "  </thead>\n",
       "  <tbody>\n",
       "    <tr>\n",
       "      <td>count</td>\n",
       "      <td>481.000000</td>\n",
       "      <td>481.000000</td>\n",
       "      <td>481.000000</td>\n",
       "      <td>481.000000</td>\n",
       "      <td>481.000000</td>\n",
       "      <td>481.000000</td>\n",
       "      <td>481.000000</td>\n",
       "    </tr>\n",
       "    <tr>\n",
       "      <td>mean</td>\n",
       "      <td>0.158543</td>\n",
       "      <td>136.721784</td>\n",
       "      <td>136.749784</td>\n",
       "      <td>134.242160</td>\n",
       "      <td>17.237506</td>\n",
       "      <td>15.831764</td>\n",
       "      <td>14.443412</td>\n",
       "    </tr>\n",
       "    <tr>\n",
       "      <td>std</td>\n",
       "      <td>0.279411</td>\n",
       "      <td>61.178345</td>\n",
       "      <td>60.515263</td>\n",
       "      <td>59.878031</td>\n",
       "      <td>8.092116</td>\n",
       "      <td>9.129551</td>\n",
       "      <td>9.482151</td>\n",
       "    </tr>\n",
       "    <tr>\n",
       "      <td>min</td>\n",
       "      <td>0.000000</td>\n",
       "      <td>24.924999</td>\n",
       "      <td>24.924999</td>\n",
       "      <td>24.924999</td>\n",
       "      <td>0.209000</td>\n",
       "      <td>-5.846000</td>\n",
       "      <td>-5.846000</td>\n",
       "    </tr>\n",
       "    <tr>\n",
       "      <td>25%</td>\n",
       "      <td>0.000000</td>\n",
       "      <td>92.063004</td>\n",
       "      <td>93.255997</td>\n",
       "      <td>92.063004</td>\n",
       "      <td>10.146001</td>\n",
       "      <td>7.101000</td>\n",
       "      <td>5.523000</td>\n",
       "    </tr>\n",
       "    <tr>\n",
       "      <td>50%</td>\n",
       "      <td>0.058824</td>\n",
       "      <td>128.671997</td>\n",
       "      <td>128.065994</td>\n",
       "      <td>126.084999</td>\n",
       "      <td>20.571001</td>\n",
       "      <td>20.130001</td>\n",
       "      <td>14.904000</td>\n",
       "    </tr>\n",
       "    <tr>\n",
       "      <td>75%</td>\n",
       "      <td>0.186386</td>\n",
       "      <td>167.664993</td>\n",
       "      <td>167.664993</td>\n",
       "      <td>166.574005</td>\n",
       "      <td>23.930000</td>\n",
       "      <td>23.928001</td>\n",
       "      <td>23.490002</td>\n",
       "    </tr>\n",
       "    <tr>\n",
       "      <td>max</td>\n",
       "      <td>2.418605</td>\n",
       "      <td>392.566986</td>\n",
       "      <td>392.566986</td>\n",
       "      <td>392.566986</td>\n",
       "      <td>27.733002</td>\n",
       "      <td>27.733002</td>\n",
       "      <td>27.733002</td>\n",
       "    </tr>\n",
       "  </tbody>\n",
       "</table>\n",
       "</div>"
      ],
      "text/plain": [
       "       depend_var      ppt_m1      ppt_m2      ppt_m3    tmean_m1    tmean_m2  \\\n",
       "count  481.000000  481.000000  481.000000  481.000000  481.000000  481.000000   \n",
       "mean     0.158543  136.721784  136.749784  134.242160   17.237506   15.831764   \n",
       "std      0.279411   61.178345   60.515263   59.878031    8.092116    9.129551   \n",
       "min      0.000000   24.924999   24.924999   24.924999    0.209000   -5.846000   \n",
       "25%      0.000000   92.063004   93.255997   92.063004   10.146001    7.101000   \n",
       "50%      0.058824  128.671997  128.065994  126.084999   20.571001   20.130001   \n",
       "75%      0.186386  167.664993  167.664993  166.574005   23.930000   23.928001   \n",
       "max      2.418605  392.566986  392.566986  392.566986   27.733002   27.733002   \n",
       "\n",
       "         tmean_m3  \n",
       "count  481.000000  \n",
       "mean    14.443412  \n",
       "std      9.482151  \n",
       "min     -5.846000  \n",
       "25%      5.523000  \n",
       "50%     14.904000  \n",
       "75%     23.490002  \n",
       "max     27.733002  "
      ]
     },
     "execution_count": 32,
     "metadata": {},
     "output_type": "execute_result"
    }
   ],
   "source": [
    "fullset_df.describe()"
   ]
  },
  {
   "cell_type": "code",
   "execution_count": 33,
   "metadata": {},
   "outputs": [],
   "source": [
    "y_pred = regressor_full.predict(X_test)"
   ]
  },
  {
   "cell_type": "code",
   "execution_count": 40,
   "metadata": {},
   "outputs": [
    {
     "data": {
      "text/plain": [
       "0.18909240341533884"
      ]
     },
     "execution_count": 40,
     "metadata": {},
     "output_type": "execute_result"
    }
   ],
   "source": [
    "score = regressor_full.score(X_full,y_full)\n",
    "score"
   ]
  },
  {
   "cell_type": "code",
   "execution_count": 41,
   "metadata": {},
   "outputs": [
    {
     "name": "stdout",
     "output_type": "stream",
     "text": [
      "Mean Absolute Error: 0.1276119874858841\n",
      "Mean Squared Error: 0.03820035643574603\n",
      "Root Mean Squared Error: 0.19544911469675688\n"
     ]
    }
   ],
   "source": [
    "print('Mean Absolute Error:', metrics.mean_absolute_error(y_test,y_pred))\n",
    "print('Mean Squared Error:', metrics.mean_squared_error(y_test, y_pred))\n",
    "print('Root Mean Squared Error:', np.sqrt(metrics.mean_squared_error(y_test, y_pred)))"
   ]
  },
  {
   "cell_type": "code",
   "execution_count": 42,
   "metadata": {},
   "outputs": [
    {
     "data": {
      "text/plain": [
       "0.3631406038524868"
      ]
     },
     "execution_count": 42,
     "metadata": {},
     "output_type": "execute_result"
    }
   ],
   "source": [
    "score = regressor_full.score(X_test,y_test)\n",
    "score"
   ]
  },
  {
   "cell_type": "code",
   "execution_count": 43,
   "metadata": {},
   "outputs": [
    {
     "data": {
      "text/plain": [
       "-18.19274179123474"
      ]
     },
     "execution_count": 43,
     "metadata": {},
     "output_type": "execute_result"
    }
   ],
   "source": [
    "score = regressor.score(X_test,y_test)\n",
    "score"
   ]
  },
  {
   "cell_type": "code",
   "execution_count": 44,
   "metadata": {},
   "outputs": [],
   "source": [
    "output = open('regressor_allmonths_Sep26.pk1','wb')\n",
    "pickle.dump(regressor_full,output)\n",
    "output.close()"
   ]
  },
  {
   "cell_type": "code",
   "execution_count": 45,
   "metadata": {},
   "outputs": [],
   "source": [
    "cluster_coords = pd.read_csv('cluster_coords.csv', index_col=0)\n",
    "cluster_coords = cluster_coords.reset_index()"
   ]
  },
  {
   "cell_type": "code",
   "execution_count": 94,
   "metadata": {},
   "outputs": [],
   "source": [
    "def get_closest_cluster_point(clusters,reference):\n",
    "    #print(clusters)\n",
    "    closest_point = min(clusters, key=lambda point: great_circle(point,reference).m)\n",
    "    return tuple(closest_point)"
   ]
  },
  {
   "cell_type": "code",
   "execution_count": 96,
   "metadata": {},
   "outputs": [],
   "source": [
    "cluster_array = [(37.358594, -88.919156), (41.80800418, -87.58900703), (39.4532783639, -87.4155096884), (39.4410783333, -88.1627361667), (42.2927100677, -85.148530556), (39.4712017408, -88.1936910734), (40.9798075632, -81.3047336788), (41.1012884709, -83.1792231645), (38.7248236493, -83.1785495849), (39.5817333333, -82.0146111167), (40.699795, -82.53702), (40.3729181, -82.3967142), (39.1298138333, -84.5002366667), (38.9642299915, -77.3278066023), (41.326536748, -81.4385604858), (38.7709536727, -77.2703889733), (38.94863, -77.3300333333), (37.7559179311, -83.9149260521), (36.6652793884, -84.4941940308), (39.5883851759, -79.9864799835), (38.7814325094, -76.710026823), (39.0982421491, -76.7286836462), (39.09078154, -77.12346602), (39.1265712307, -76.8781313699), (39.0171668581, -76.7995197217), (35.7945046404, -78.68952847), (35.5280715306, -82.3568541754), (35.8827725, -78.9871598), (35.8057043825, -79.0707965844), (35.8133333333, -81.1672222222), (34.8841629028, -82.2802352905), (33.2621033333, -87.5149916667), (33.4223913032, -86.7678254792), (34.419152039, -85.616389241), (34.2233266246, -86.161356589), (32.0110664637, -85.4421526885), (32.788461, -86.871655), (33.4582361919, -85.5765152047)]\n",
    "\n",
    "\n",
    "\n",
    "#cluster_array =[[ 2.28181753, -85.12953758],\n",
    "#       [ 49.28104873, 85.13474258],\n",
    "#       [ 13.28251604, 7.13537407]]\n",
    "reference_point = [41.27763488, -87.13232721]"
   ]
  },
  {
   "cell_type": "code",
   "execution_count": 101,
   "metadata": {},
   "outputs": [],
   "source": [
    "newtest = get_closest_cluster_point(cluster_array,reference_point)"
   ]
  },
  {
   "cell_type": "code",
   "execution_count": 102,
   "metadata": {},
   "outputs": [
    {
     "data": {
      "text/plain": [
       "(41.80800418, -87.58900703)"
      ]
     },
     "execution_count": 102,
     "metadata": {},
     "output_type": "execute_result"
    }
   ],
   "source": [
    "newtest"
   ]
  },
  {
   "cell_type": "code",
   "execution_count": 103,
   "metadata": {},
   "outputs": [
    {
     "data": {
      "text/plain": [
       "41.80800418"
      ]
     },
     "execution_count": 103,
     "metadata": {},
     "output_type": "execute_result"
    }
   ],
   "source": [
    "newtest[0]"
   ]
  },
  {
   "cell_type": "code",
   "execution_count": 108,
   "metadata": {},
   "outputs": [
    {
     "data": {
      "text/plain": [
       "2"
      ]
     },
     "execution_count": 108,
     "metadata": {},
     "output_type": "execute_result"
    }
   ],
   "source": [
    "cluster_coords.loc[cluster_coords['lat']==newtest[0]]['id'].iloc[0]"
   ]
  },
  {
   "cell_type": "code",
   "execution_count": 104,
   "metadata": {},
   "outputs": [
    {
     "data": {
      "text/html": [
       "<div>\n",
       "<style scoped>\n",
       "    .dataframe tbody tr th:only-of-type {\n",
       "        vertical-align: middle;\n",
       "    }\n",
       "\n",
       "    .dataframe tbody tr th {\n",
       "        vertical-align: top;\n",
       "    }\n",
       "\n",
       "    .dataframe thead th {\n",
       "        text-align: right;\n",
       "    }\n",
       "</style>\n",
       "<table border=\"1\" class=\"dataframe\">\n",
       "  <thead>\n",
       "    <tr style=\"text-align: right;\">\n",
       "      <th></th>\n",
       "      <th>lat</th>\n",
       "      <th>lon</th>\n",
       "      <th>id</th>\n",
       "    </tr>\n",
       "  </thead>\n",
       "  <tbody>\n",
       "    <tr>\n",
       "      <td>0</td>\n",
       "      <td>37.358594</td>\n",
       "      <td>-88.919156</td>\n",
       "      <td>1</td>\n",
       "    </tr>\n",
       "    <tr>\n",
       "      <td>1</td>\n",
       "      <td>41.808004</td>\n",
       "      <td>-87.589007</td>\n",
       "      <td>2</td>\n",
       "    </tr>\n",
       "    <tr>\n",
       "      <td>2</td>\n",
       "      <td>39.453278</td>\n",
       "      <td>-87.415510</td>\n",
       "      <td>3</td>\n",
       "    </tr>\n",
       "    <tr>\n",
       "      <td>3</td>\n",
       "      <td>39.441078</td>\n",
       "      <td>-88.162736</td>\n",
       "      <td>4</td>\n",
       "    </tr>\n",
       "    <tr>\n",
       "      <td>4</td>\n",
       "      <td>42.292710</td>\n",
       "      <td>-85.148531</td>\n",
       "      <td>5</td>\n",
       "    </tr>\n",
       "  </tbody>\n",
       "</table>\n",
       "</div>"
      ],
      "text/plain": [
       "         lat        lon  id\n",
       "0  37.358594 -88.919156   1\n",
       "1  41.808004 -87.589007   2\n",
       "2  39.453278 -87.415510   3\n",
       "3  39.441078 -88.162736   4\n",
       "4  42.292710 -85.148531   5"
      ]
     },
     "execution_count": 104,
     "metadata": {},
     "output_type": "execute_result"
    }
   ],
   "source": [
    "cluster_coords.head()"
   ]
  },
  {
   "cell_type": "code",
   "execution_count": 109,
   "metadata": {},
   "outputs": [],
   "source": [
    "def get_closest_cluster_id(clusters,reference):\n",
    "    cluster_array = [(37.358594, -88.919156), (41.80800418, -87.58900703), (39.4532783639, -87.4155096884), (39.4410783333, -88.1627361667), (42.2927100677, -85.148530556), (39.4712017408, -88.1936910734), (40.9798075632, -81.3047336788), (41.1012884709, -83.1792231645), (38.7248236493, -83.1785495849), (39.5817333333, -82.0146111167), (40.699795, -82.53702), (40.3729181, -82.3967142), (39.1298138333, -84.5002366667), (38.9642299915, -77.3278066023), (41.326536748, -81.4385604858), (38.7709536727, -77.2703889733), (38.94863, -77.3300333333), (37.7559179311, -83.9149260521), (36.6652793884, -84.4941940308), (39.5883851759, -79.9864799835), (38.7814325094, -76.710026823), (39.0982421491, -76.7286836462), (39.09078154, -77.12346602), (39.1265712307, -76.8781313699), (39.0171668581, -76.7995197217), (35.7945046404, -78.68952847), (35.5280715306, -82.3568541754), (35.8827725, -78.9871598), (35.8057043825, -79.0707965844), (35.8133333333, -81.1672222222), (34.8841629028, -82.2802352905), (33.2621033333, -87.5149916667), (33.4223913032, -86.7678254792), (34.419152039, -85.616389241), (34.2233266246, -86.161356589), (32.0110664637, -85.4421526885), (32.788461, -86.871655), (33.4582361919, -85.5765152047)]\n",
    "\n",
    "\n",
    "    closest_point = min(cluster_array, key=lambda point: great_circle(point,reference).m)\n",
    "\n",
    "    cluster_coords = pd.read_csv('cluster_coords.csv', index_col=0)\n",
    "    cluster_coords = cluster_coords.reset_index()\n",
    "    cluster_id = cluster_coords.loc[cluster_coords['lat']==closest_point[0]]['id'].iloc[0]\n",
    "\n",
    "    return cluster_id"
   ]
  },
  {
   "cell_type": "code",
   "execution_count": null,
   "metadata": {},
   "outputs": [],
   "source": [
    "def get_prediction_butterfly(id):\n",
    "    pk2_climatefile = open('formatted_climate_data_2018-03_2019-08.pk1','rb')\n",
    "    climate_data = pickle.load(pk2_climatefile)"
   ]
  }
 ],
 "metadata": {
  "kernelspec": {
   "display_name": "Python 3",
   "language": "python",
   "name": "python3"
  },
  "language_info": {
   "codemirror_mode": {
    "name": "ipython",
    "version": 3
   },
   "file_extension": ".py",
   "mimetype": "text/x-python",
   "name": "python",
   "nbconvert_exporter": "python",
   "pygments_lexer": "ipython3",
   "version": "3.7.4"
  }
 },
 "nbformat": 4,
 "nbformat_minor": 2
}
